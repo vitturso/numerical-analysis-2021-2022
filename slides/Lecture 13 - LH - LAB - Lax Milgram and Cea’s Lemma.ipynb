{
 "cells": [
  {
   "cell_type": "code",
   "execution_count": 1,
   "id": "b4028d3a",
   "metadata": {},
   "outputs": [
    {
     "name": "stdout",
     "output_type": "stream",
     "text": [
      "Populating the interactive namespace from numpy and matplotlib\n"
     ]
    }
   ],
   "source": [
    "%pylab inline\n",
    "import sympy as sym"
   ]
  },
  {
   "cell_type": "markdown",
   "id": "7c7c5aca",
   "metadata": {},
   "source": [
    "We'll need to compute\n",
    "\n",
    "$$\n",
    "A_{ij} := \\int_a^b v_j' v_i' \n",
    "$$\n",
    "\n",
    "and \n",
    "\n",
    "$$\n",
    "f_i := \\int_a^b v_i f\n",
    "$$\n",
    "\n",
    "We split the interval in $M$ elements (segments), with $M+1$ vertices (element boundaries). Define the element boundaries $q := [a, q_1, q_2, ..., q_{M-1}, b]$, and the elements sizes $h_k := v_{k+1}-q_k$. \n",
    "In $[a,b]$ we have a total of $N$ basis functions, which are piecewise polynomials of degree $d$, so that in each segment there are always at most $d+1$ non-zero basis functions, and $d+1$ support points.\n",
    "\n",
    "We assume that each support point can be interpreted as the image of reference support points $\\hat a_\\alpha$, where $\\alpha \\in [0,d]$, throught the mapping $F_k(s) := q_k+h_k s$ which maps $[0,1]$ to $T_k := [q_k, q_{k+1}]$.\n",
    "\n",
    "\n",
    "Similarly, every global basis function $v_j$ can be seen as the composition of a *reference* basis function $\\hat v_\\alpha$ defined on the reference interval $[0,1]$, and the inverse of the element transformation $F_k(s) := q_k+h_k s$ which maps $[0,1]$ to $[q_k, q_{k+1}]$, that is: \n",
    "\n",
    "$$\n",
    "v_i(F_k(s)) = P_{ki\\alpha} \\hat v_\\alpha(s)\n",
    "$$\n",
    "\n",
    "Where $P_{i\\alpha}$ represents the numbering of the local basis function $\\alpha \\in [0,d]$, i.e., given the $(d+1)$ reference basis functions in $0,1$ of degree $d$, $P_{ki\\alpha}$.\n",
    "\n",
    "We will implement the numbering as a matrix $P \\in R^{M,d+1}$, which returns the global index $i$, given the local element index $k$ and the local basis function index $i$, i.e., \n",
    "\n",
    "\n",
    "$$\n",
    "v_{P_{k\\alpha}}(F_k(s)) = \\hat v_\\alpha(s)\n",
    "$$\n",
    "\n",
    "Notice that, if we want to compute the derivative w.r.t. $x$ of $v_i$, computed in $F_k(s)$, as a function of the derivative of $\\hat v_\\alpha$ w.r.t. $s$, we need to take into account also the derivative of $F_k$, i.e., since $(v\\circ F_k)' = (v' \\circ F_k) F_k'$, we have\n",
    "\n",
    "\n",
    "$$\n",
    "v'_{P_{k\\alpha}}(F_k(s)) = \\hat v'_\\alpha(s)/F'_k(s) = \\hat v'_\\alpha(s)/h_k\n",
    "$$"
   ]
  },
  {
   "cell_type": "code",
   "execution_count": 2,
   "id": "42d6e7a7",
   "metadata": {},
   "outputs": [],
   "source": [
    "# The reference element is [0,1]. We construct the mappings, the determinant of their Jacobians, and the \n",
    "# reference Basis functions\n",
    "\n",
    "def mapping(q, i):\n",
    "    \"\"\"\n",
    "    Returns the mapping from [0,1] to T_k := [q[k], q[k+1]]\n",
    "    \"\"\"\n",
    "    assert i < len(q)-1\n",
    "    assert i >= 0\n",
    "    return lambda x: q[i]+x*(q[i+1]-q[i])\n",
    "\n",
    "def mapping_J(q,i):\n",
    "    assert i < len(q)-1\n",
    "    assert i >= 0\n",
    "    return (q[i+1]-q[i])\n",
    "\n",
    "def lagrange_basis(q, i):\n",
    "    assert i < len(q)\n",
    "    assert i >= 0\n",
    "    return lambda x: prod([(x-q[j])/(q[i]-q[j]) for j in range(len(q)) if i!=j], axis=0)\n",
    "\n",
    "# Workaround, to allow lambdify to work also on constant expressions\n",
    "def np_lambdify(varname, func):\n",
    "    lamb = sym.lambdify(varname, func, modules=['numpy'])\n",
    "    if func.is_constant():\n",
    "        return lambda t: full_like(t, lamb(t))\n",
    "    else:\n",
    "        return lambda t: lamb(np.array(t))\n",
    "\n",
    "def lagrange_basis_derivative(q,i,order=1):\n",
    "    t = sym.var('t')\n",
    "    return np_lambdify(t, lagrange_basis(q,i)(t).diff(t,order))"
   ]
  },
  {
   "cell_type": "code",
   "execution_count": 3,
   "id": "9b0d158b",
   "metadata": {},
   "outputs": [],
   "source": [
    "def fem(M, exact_function, rhs_function, degree=1, a=0, b=1):\n",
    "    \"\"\"\n",
    "    Solve the Finite Element Method with the given degree in 1d with M elements in [a,b], \n",
    "    for the given rhs_function, and return the L2 error w.r.t. to the given exact function.\n",
    "    \"\"\"\n",
    "    assert degree > 0\n",
    "    \n",
    "    # We now choose the number of quadrature points, in order to integrate *exactly* \n",
    "    # both (v_i, v_j) and (v'_i, v'_j)\n",
    "    n_quadrature_points = 2*degree+1\n",
    "    # To get a continuous space, we construct piecewise polynomials with support points on the boundary of the\n",
    "    # elements. If the degree is greater than 1, then we pick (d-1) equispaced points in the interior of the\n",
    "    # elements as additional support points.\n",
    "\n",
    "    # Notice that the total number of degrees of freedom is equal to the number of vertices (M+1) plus the \n",
    "    # number of *interior*  basis functions (d+1-2), that is: (M+1) + (d-1)*M = M*d+1\n",
    "    N = M*degree+1\n",
    "    ref_vertices = linspace(0,1,degree+1)\n",
    "    vertices = linspace(a,b,M+1) # Vertices of our triangulation\n",
    "\n",
    "    # Now construct a Gauss quadrature formula on [0,1]\n",
    "    q, w = numpy.polynomial.legendre.leggauss(n_quadrature_points)\n",
    "    q = (q+1)/2\n",
    "    w = w/2\n",
    "\n",
    "    \n",
    "    Vq = array([lagrange_basis(ref_vertices,i)(q) for i in range(degree+1)]).T\n",
    "    Vprimeq = array([lagrange_basis_derivative(ref_vertices,i)(q) for i in range(degree+1)]).T\n",
    "    \n",
    "    Bq = zeros((M, n_quadrature_points, N))\n",
    "    Bprimeq = zeros((M, n_quadrature_points, N))\n",
    "\n",
    "    # And build a global numbering of the basis functions i = P[k,alpha]. Keep in mind that, to ensure continuity, \n",
    "    # we identify the global index the first basis function of each element, with the global index of the \n",
    "    # last basis function of the previous element\n",
    "    P = zeros((M,degree+1), dtype=int)\n",
    "\n",
    "    for k in range(M):\n",
    "        start = k*degree\n",
    "        P[k] = array(range(start,start+degree+1))\n",
    "\n",
    "    assert P.max() == N-1\n",
    "    \n",
    "    # Now we build, for each segment, the transformation of quadrature points and weights, so that we can \n",
    "    # integrate the rhs and the matrices\n",
    "    Q = array([mapping(vertices,k)(q) for k in range(M)])\n",
    "    JxW = array([mapping_J(vertices,k)*w for k in range(M)])\n",
    "    \n",
    "    # Construct a arrays Bq and Bprimeq: Bq[k,j,i] is v_i(T_k(q[j])), \n",
    "    # and Bprimeq[k,j,i] is v'_i(T_k(q[j]))/T'_k(q[j])    \n",
    "    for k in range(M):\n",
    "        Bq[k,:,P[k]] = Vq.T\n",
    "        Bprimeq[k,:,P[k]] = Vprimeq.T/mapping_J(vertices,k)\n",
    "\n",
    "    Xq = Q.flatten()\n",
    "    Bq = Bq.reshape((len(Xq),-1))\n",
    "    Bprimeq = Bprimeq.reshape((len(Xq),-1))\n",
    "    JxWq = JxW.flatten()\n",
    "\n",
    "    # Now compute the integrals for the stiffness matrix\n",
    "    stiffness_matrix = einsum('qi,qj,q',Bprimeq,Bprimeq,JxWq)\n",
    "    stiffness_matrix[0,:] = stiffness_matrix[-1,:] = 0\n",
    "    stiffness_matrix[0,0] = stiffness_matrix[-1,-1] = 1 \n",
    "    \n",
    "    # And the integral for the rhs\n",
    "    rhs = einsum('qi,q,q', Bq, rhs_function(Xq), JxWq)\n",
    "    rhs[0] = exact_function(a)\n",
    "    rhs[-1] = exact_function(b)\n",
    "    \n",
    "    # Finally solve the system\n",
    "    u = linalg.solve(stiffness_matrix, rhs)\n",
    "    # And compute the L2 error: \n",
    "    error = sqrt(einsum('q,q', (Bq.dot(u)-exact_function(Xq))**2, JxWq))\n",
    "    return error\n",
    "    "
   ]
  },
  {
   "cell_type": "code",
   "execution_count": 4,
   "id": "b5436f00",
   "metadata": {},
   "outputs": [],
   "source": [
    "# Let's solve non trivial problem: u = sin(2 pi x)  --> -u'' = 4 pi^2 sin(2 pi x) \n",
    "def exact_function(x):\n",
    "    return sin(2*pi*x)\n",
    "\n",
    "def rhs_function(x):\n",
    "    return sin(2*pi*x)*(4*pi**2)"
   ]
  },
  {
   "cell_type": "code",
   "execution_count": 5,
   "id": "c1be3ab8",
   "metadata": {},
   "outputs": [
    {
     "data": {
      "text/plain": [
       "0.00027868305314870966"
      ]
     },
     "execution_count": 5,
     "metadata": {},
     "output_type": "execute_result"
    }
   ],
   "source": [
    "fem(6, exact_function, rhs_function, 3)"
   ]
  },
  {
   "cell_type": "code",
   "execution_count": 6,
   "id": "ca3c0e37",
   "metadata": {},
   "outputs": [],
   "source": [
    "degrees = [1,2,3,4]\n",
    "Ms = [2**cycle for cycle in range(3,9)]\n",
    "h = [1/(M+1) for M in Ms]\n",
    "\n",
    "errors = zeros((len(h), len(degrees)))\n",
    "\n",
    "for i in range(len(Ms)):\n",
    "    for j in range(len(degrees)):\n",
    "        errors[i,j] = fem(Ms[i], exact_function, rhs_function, degrees[j])"
   ]
  },
  {
   "cell_type": "code",
   "execution_count": 7,
   "id": "15b4cfff",
   "metadata": {},
   "outputs": [
    {
     "data": {
      "image/png": "[encoded data removed]",
      "text/plain": [
       "<Figure size 432x288 with 1 Axes>"
      ]
     },
     "metadata": {
      "needs_background": "light"
     },
     "output_type": "display_data"
    }
   ],
   "source": [
    "_ = loglog(h, errors,'o-')"
   ]
  }
 ],
 "metadata": {
  "kernelspec": {
   "display_name": "Python 3",
   "language": "python",
   "name": "python3"
  },
  "language_info": {
   "codemirror_mode": {
    "name": "ipython",
    "version": 3
   },
   "file_extension": ".py",
   "mimetype": "text/x-python",
   "name": "python",
   "nbconvert_exporter": "python",
   "pygments_lexer": "ipython3",
   "version": "3.8.8"
  }
 },
 "nbformat": 4,
 "nbformat_minor": 5
}
