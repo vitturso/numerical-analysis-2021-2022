{
 "cells": [
  {
   "cell_type": "code",
   "execution_count": 3,
   "metadata": {},
   "outputs": [
    {
     "name": "stdout",
     "output_type": "stream",
     "text": [
      "Populating the interactive namespace from numpy and matplotlib\n"
     ]
    }
   ],
   "source": [
    "%pylab inline"
   ]
  },
  {
   "cell_type": "code",
   "execution_count": 4,
   "metadata": {},
   "outputs": [],
   "source": [
    "N = 11\n",
    "h = 1/(N-1)\n",
    "x = linspace(0,1,N)"
   ]
  },
  {
   "cell_type": "code",
   "execution_count": 5,
   "metadata": {},
   "outputs": [],
   "source": [
    "f = ones((N,))"
   ]
  },
  {
   "cell_type": "code",
   "execution_count": 6,
   "metadata": {},
   "outputs": [],
   "source": [
    "A = zeros((N,N))\n",
    "for i in range(1,N-1):\n",
    "    A[i, i-1] = A[i, i+1] = -1\n",
    "    A[i,i] = 2\n",
    "A[0,0] = A[-1,-1] = 1\n",
    "f[0] = f[-1] = 0\n",
    "\n",
    "A = A/h**2"
   ]
  },
  {
   "cell_type": "code",
   "execution_count": 7,
   "metadata": {},
   "outputs": [
    {
     "data": {
      "text/plain": [
       "(array([[ 100.,    0.,    0.,    0.,    0.,    0.,    0.,    0.,    0.,\n",
       "            0.,    0.],\n",
       "        [-100.,  200., -100.,    0.,    0.,    0.,    0.,    0.,    0.,\n",
       "            0.,    0.],\n",
       "        [   0., -100.,  200., -100.,    0.,    0.,    0.,    0.,    0.,\n",
       "            0.,    0.],\n",
       "        [   0.,    0., -100.,  200., -100.,    0.,    0.,    0.,    0.,\n",
       "            0.,    0.],\n",
       "        [   0.,    0.,    0., -100.,  200., -100.,    0.,    0.,    0.,\n",
       "            0.,    0.],\n",
       "        [   0.,    0.,    0.,    0., -100.,  200., -100.,    0.,    0.,\n",
       "            0.,    0.],\n",
       "        [   0.,    0.,    0.,    0.,    0., -100.,  200., -100.,    0.,\n",
       "            0.,    0.],\n",
       "        [   0.,    0.,    0.,    0.,    0.,    0., -100.,  200., -100.,\n",
       "            0.,    0.],\n",
       "        [   0.,    0.,    0.,    0.,    0.,    0.,    0., -100.,  200.,\n",
       "         -100.,    0.],\n",
       "        [   0.,    0.,    0.,    0.,    0.,    0.,    0.,    0., -100.,\n",
       "          200., -100.],\n",
       "        [   0.,    0.,    0.,    0.,    0.,    0.,    0.,    0.,    0.,\n",
       "            0.,  100.]]),\n",
       " array([0., 1., 1., 1., 1., 1., 1., 1., 1., 1., 0.]))"
      ]
     },
     "execution_count": 7,
     "metadata": {},
     "output_type": "execute_result"
    }
   ],
   "source": [
    "A, f"
   ]
  },
  {
   "cell_type": "code",
   "execution_count": 8,
   "metadata": {},
   "outputs": [],
   "source": [
    "u = linalg.solve(A, f)"
   ]
  },
  {
   "cell_type": "code",
   "execution_count": 11,
   "metadata": {},
   "outputs": [
    {
     "data": {
      "text/plain": [
       "[<matplotlib.lines.Line2D at 0x7fca57cf2a30>]"
      ]
     },
     "execution_count": 11,
     "metadata": {},
     "output_type": "execute_result"
    },
    {
     "data": {
      "image/png": "[encoded data removed]",
      "text/plain": [
       "<Figure size 432x288 with 1 Axes>"
      ]
     },
     "metadata": {
      "needs_background": "light"
     },
     "output_type": "display_data"
    }
   ],
   "source": [
    "plot(x, u, 'o-b')\n",
    "plot(x, 0.5*(x*(1-x)), 'r')"
   ]
  },
  {
   "cell_type": "code",
   "execution_count": 14,
   "metadata": {},
   "outputs": [],
   "source": [
    "exact = 0.5*(x*(1-x))\n",
    "error = max(abs(exact-u))"
   ]
  },
  {
   "cell_type": "code",
   "execution_count": 15,
   "metadata": {},
   "outputs": [
    {
     "data": {
      "text/plain": [
       "4.163336342344337e-17"
      ]
     },
     "execution_count": 15,
     "metadata": {},
     "output_type": "execute_result"
    }
   ],
   "source": [
    "error"
   ]
  },
  {
   "cell_type": "code",
   "execution_count": 16,
   "metadata": {},
   "outputs": [],
   "source": [
    "exact = x*(1-x)*(x-.85)"
   ]
  },
  {
   "cell_type": "code",
   "execution_count": 17,
   "metadata": {},
   "outputs": [],
   "source": [
    "import sympy as sym\n",
    "t = sym.var('x')\n",
    "exact_t = t*(1-t)*(t-.85)\n",
    "fsymbol = sym.lambdify(t, -exact_t.diff(t, 2) )\n",
    "\n",
    "x = linspace(0,1,N)\n",
    "f = fsymbol(x)"
   ]
  },
  {
   "cell_type": "code",
   "execution_count": 18,
   "metadata": {},
   "outputs": [],
   "source": [
    "x = linspace(0,1,N)\n",
    "f = fsymbol(x)\n",
    "f[0] = f[-1] = 0"
   ]
  },
  {
   "cell_type": "code",
   "execution_count": 19,
   "metadata": {},
   "outputs": [
    {
     "data": {
      "text/plain": [
       "[<matplotlib.lines.Line2D at 0x7fca3f3d6c70>]"
      ]
     },
     "execution_count": 19,
     "metadata": {},
     "output_type": "execute_result"
    },
    {
     "data": {
      "image/png": "[encoded data removed]",
      "text/plain": [
       "<Figure size 432x288 with 1 Axes>"
      ]
     },
     "metadata": {
      "needs_background": "light"
     },
     "output_type": "display_data"
    }
   ],
   "source": [
    "plot(x,f)"
   ]
  },
  {
   "cell_type": "code",
   "execution_count": 20,
   "metadata": {},
   "outputs": [],
   "source": [
    "u = linalg.solve(A, f)"
   ]
  },
  {
   "cell_type": "code",
   "execution_count": 25,
   "metadata": {},
   "outputs": [
    {
     "data": {
      "text/plain": [
       "[<matplotlib.lines.Line2D at 0x7fca3f2bbc70>]"
      ]
     },
     "execution_count": 25,
     "metadata": {},
     "output_type": "execute_result"
    },
    {
     "data": {
      "image/png": "[encoded data removed]",
      "text/plain": [
       "<Figure size 432x288 with 1 Axes>"
      ]
     },
     "metadata": {
      "needs_background": "light"
     },
     "output_type": "display_data"
    }
   ],
   "source": [
    "plot(x, u, 'ob-')\n",
    "plot(x, exact)"
   ]
  },
  {
   "cell_type": "code",
   "execution_count": 22,
   "metadata": {},
   "outputs": [
    {
     "data": {
      "text/plain": [
       "3.469446951953614e-17"
      ]
     },
     "execution_count": 22,
     "metadata": {},
     "output_type": "execute_result"
    }
   ],
   "source": [
    "max(abs(u - exact))"
   ]
  },
  {
   "cell_type": "code",
   "execution_count": 17,
   "metadata": {},
   "outputs": [],
   "source": [
    "x = sym.var('x')\n",
    "h = sym.var('h')\n",
    "g = sym.Function('g')"
   ]
  },
  {
   "cell_type": "code",
   "execution_count": 18,
   "metadata": {},
   "outputs": [],
   "source": [
    "def cfd_II(x,h,g):\n",
    "    return (g(x+h)- 2*g(x) + g(x-h))/h**2\n",
    "\n",
    "def back_fd(x,h,g):\n",
    "    return (g(x+h)- g(x))/h\n",
    "\n",
    "def forward_fd(x,h,g):\n",
    "    return (g(x)- g(x-h))/h\n",
    "\n",
    "def central_fd(x,h,g):\n",
    "    return (g(x+h)- g(x-h))/(2*h)"
   ]
  },
  {
   "cell_type": "code",
   "execution_count": 19,
   "metadata": {
    "scrolled": true
   },
   "outputs": [
    {
     "data": {
      "text/latex": [
       "$\\displaystyle \\left. \\frac{d}{d \\xi_{1}} g{\\left(\\xi_{1} \\right)} \\right|_{\\substack{ \\xi_{1}=x }} + \\frac{h \\left. \\frac{d^{2}}{d \\xi_{1}^{2}} g{\\left(\\xi_{1} \\right)} \\right|_{\\substack{ \\xi_{1}=x }}}{2} + O\\left(h^{2}\\right)$"
      ],
      "text/plain": [
       "Subs(Derivative(g(_xi_1), _xi_1), _xi_1, x) + h*Subs(Derivative(g(_xi_1), (_xi_1, 2)), _xi_1, x)/2 + O(h**2)"
      ]
     },
     "execution_count": 19,
     "metadata": {},
     "output_type": "execute_result"
    }
   ],
   "source": [
    "sym.series(back_fd(x, h, g), x=h, x0=0, n=2)"
   ]
  },
  {
   "cell_type": "code",
   "execution_count": 20,
   "metadata": {},
   "outputs": [
    {
     "data": {
      "text/latex": [
       "$\\displaystyle \\left. \\frac{d}{d \\xi_{1}} g{\\left(\\xi_{1} \\right)} \\right|_{\\substack{ \\xi_{1}=x }} - \\frac{h \\left. \\frac{d^{2}}{d \\xi_{1}^{2}} g{\\left(\\xi_{1} \\right)} \\right|_{\\substack{ \\xi_{1}=x }}}{2} + O\\left(h^{2}\\right)$"
      ],
      "text/plain": [
       "Subs(Derivative(g(_xi_1), _xi_1), _xi_1, x) - h*Subs(Derivative(g(_xi_1), (_xi_1, 2)), _xi_1, x)/2 + O(h**2)"
      ]
     },
     "execution_count": 20,
     "metadata": {},
     "output_type": "execute_result"
    }
   ],
   "source": [
    "sym.series(forward_fd(x, h, g), x=h, x0=0, n=2)"
   ]
  },
  {
   "cell_type": "code",
   "execution_count": 21,
   "metadata": {},
   "outputs": [
    {
     "data": {
      "text/latex": [
       "$\\displaystyle \\left. \\frac{d}{d \\xi_{1}} g{\\left(\\xi_{1} \\right)} \\right|_{\\substack{ \\xi_{1}=x }} + \\frac{h^{2} \\left. \\frac{d^{3}}{d \\xi_{1}^{3}} g{\\left(\\xi_{1} \\right)} \\right|_{\\substack{ \\xi_{1}=x }}}{6} + O\\left(h^{3}\\right)$"
      ],
      "text/plain": [
       "Subs(Derivative(g(_xi_1), _xi_1), _xi_1, x) + h**2*Subs(Derivative(g(_xi_1), (_xi_1, 3)), _xi_1, x)/6 + O(h**3)"
      ]
     },
     "execution_count": 21,
     "metadata": {},
     "output_type": "execute_result"
    }
   ],
   "source": [
    "sym.series(central_fd(x, h, g), x=h, x0=0, n=3)"
   ]
  },
  {
   "cell_type": "code",
   "execution_count": 22,
   "metadata": {},
   "outputs": [
    {
     "data": {
      "text/latex": [
       "$\\displaystyle \\left. \\frac{d^{2}}{d \\xi_{1}^{2}} g{\\left(\\xi_{1} \\right)} \\right|_{\\substack{ \\xi_{1}=x }} + \\frac{h^{2} \\left. \\frac{d^{4}}{d \\xi_{1}^{4}} g{\\left(\\xi_{1} \\right)} \\right|_{\\substack{ \\xi_{1}=x }}}{12} + \\frac{h^{4} \\left. \\frac{d^{6}}{d \\xi_{1}^{6}} g{\\left(\\xi_{1} \\right)} \\right|_{\\substack{ \\xi_{1}=x }}}{360} + O\\left(h^{5}\\right)$"
      ],
      "text/plain": [
       "Subs(Derivative(g(_xi_1), (_xi_1, 2)), _xi_1, x) + h**2*Subs(Derivative(g(_xi_1), (_xi_1, 4)), _xi_1, x)/12 + h**4*Subs(Derivative(g(_xi_1), (_xi_1, 6)), _xi_1, x)/360 + O(h**5)"
      ]
     },
     "execution_count": 22,
     "metadata": {},
     "output_type": "execute_result"
    }
   ],
   "source": [
    "sym.series(cfd_II(x, h, g), x=h, x0=0, n=5)"
   ]
  }
 ],
 "metadata": {
  "kernelspec": {
   "display_name": "Python 3",
   "language": "python",
   "name": "python3"
  },
  "language_info": {
   "codemirror_mode": {
    "name": "ipython",
    "version": 3
   },
   "file_extension": ".py",
   "mimetype": "text/x-python",
   "name": "python",
   "nbconvert_exporter": "python",
   "pygments_lexer": "ipython3",
   "version": "3.8.10"
  }
 },
 "nbformat": 4,
 "nbformat_minor": 5
}
