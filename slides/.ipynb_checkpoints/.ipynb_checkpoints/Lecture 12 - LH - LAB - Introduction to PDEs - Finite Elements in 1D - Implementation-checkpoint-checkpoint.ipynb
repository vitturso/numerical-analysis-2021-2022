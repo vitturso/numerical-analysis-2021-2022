{
 "cells": [
  {
   "cell_type": "code",
   "execution_count": 1,
   "metadata": {},
   "outputs": [
    {
     "name": "stdout",
     "output_type": "stream",
     "text": [
      "Populating the interactive namespace from numpy and matplotlib\n"
     ]
    }
   ],
   "source": [
    "%pylab inline\n",
    "import sympy as sym"
   ]
  },
  {
   "cell_type": "markdown",
   "metadata": {},
   "source": [
    "We'll need to compute\n",
    "\n",
    "$$\n",
    "A_{ij} := \\int_a^b v_j' v_i' \n",
    "$$\n",
    "\n",
    "and \n",
    "\n",
    "$$\n",
    "f_i := \\int_a^b v_i f\n",
    "$$\n",
    "\n",
    "We split the interval in $M$ elements (segments), with $M+1$ vertices (element boundaries). Define the element boundaries $q := [a, q_1, q_2, ..., q_{M-1}, b]$, and the elements sizes $h_k := v_{k+1}-q_k$. \n",
    "In $[a,b]$ we have a total of $N$ basis functions, which are piecewise polynomials of degree $d$, so that in each segment there are always at most $d+1$ non-zero basis functions, and $d+1$ support points.\n",
    "\n",
    "We assume that each support point can be interpreted as the image of reference support points $\\hat a_\\alpha$, where $\\alpha \\in [0,d]$, throught the mapping $F_k(s) := q_k+h_k s$ which maps $[0,1]$ to $T_k := [q_k, q_{k+1}]$.\n",
    "\n",
    "\n",
    "Similarly, every global basis function $v_j$ can be seen as the composition of a *reference* basis function $\\hat v_\\alpha$ defined on the reference interval $[0,1]$, and the inverse of the element transformation $F_k(s) := q_k+h_k s$ which maps $[0,1]$ to $[q_k, q_{k+1}]$, that is: \n",
    "\n",
    "$$\n",
    "v_i(F_k(s)) = P_{ki\\alpha} \\hat v_\\alpha(s)\n",
    "$$\n",
    "\n",
    "Where $P_{i\\alpha}$ represents the numbering of the local basis function $\\alpha \\in [0,d]$, i.e., given the $(d+1)$ reference basis functions in $0,1$ of degree $d$, $P_{ki\\alpha}$.\n",
    "\n",
    "We will implement the numbering as a matrix $P \\in R^{M,d+1}$, which returns the global index $i$, given the local element index $k$ and the local basis function index $i$, i.e., \n",
    "\n",
    "\n",
    "$$\n",
    "v_{P_{k\\alpha}}(F_k(s)) = \\hat v_\\alpha(s)\n",
    "$$\n",
    "\n",
    "Notice that, if we want to compute the derivative w.r.t. $x$ of $v_i$, computed in $F_k(s)$, as a function of the derivative of $\\hat v_\\alpha$ w.r.t. $s$, we need to take into account also the derivative of $F_k$, i.e., since $(v\\circ F_k)' = (v' \\circ F_k) F_k'$, we have\n",
    "\n",
    "\n",
    "$$\n",
    "v'_{P_{k\\alpha}}(F_k(s)) = \\hat v'_\\alpha(s)/F'_k(s) = \\hat v'_\\alpha(s)/h_k\n",
    "$$"
   ]
  },
  {
   "cell_type": "code",
   "execution_count": 1,
   "metadata": {},
   "outputs": [
    {
     "ename": "NameError",
     "evalue": "name 'linspace' is not defined",
     "output_type": "error",
     "traceback": [
      "\u001b[0;31m---------------------------------------------------------------------------\u001b[0m",
      "\u001b[0;31mNameError\u001b[0m                                 Traceback (most recent call last)",
      "\u001b[0;32m<ipython-input-1-f45e2412483e>\u001b[0m in \u001b[0;36m<module>\u001b[0;34m\u001b[0m\n\u001b[1;32m     19\u001b[0m \u001b[0mN\u001b[0m \u001b[0;34m=\u001b[0m \u001b[0mM\u001b[0m\u001b[0;34m*\u001b[0m\u001b[0mdegree\u001b[0m\u001b[0;34m+\u001b[0m\u001b[0;36m1\u001b[0m\u001b[0;34m\u001b[0m\u001b[0;34m\u001b[0m\u001b[0m\n\u001b[1;32m     20\u001b[0m \u001b[0;34m\u001b[0m\u001b[0m\n\u001b[0;32m---> 21\u001b[0;31m \u001b[0mref_vertices\u001b[0m \u001b[0;34m=\u001b[0m \u001b[0mlinspace\u001b[0m\u001b[0;34m(\u001b[0m\u001b[0;36m0\u001b[0m\u001b[0;34m,\u001b[0m\u001b[0;36m1\u001b[0m\u001b[0;34m,\u001b[0m\u001b[0mdegree\u001b[0m\u001b[0;34m+\u001b[0m\u001b[0;36m1\u001b[0m\u001b[0;34m)\u001b[0m\u001b[0;34m\u001b[0m\u001b[0;34m\u001b[0m\u001b[0m\n\u001b[0m\u001b[1;32m     22\u001b[0m \u001b[0;34m\u001b[0m\u001b[0m\n\u001b[1;32m     23\u001b[0m \u001b[0mvertices\u001b[0m \u001b[0;34m=\u001b[0m \u001b[0mlinspace\u001b[0m\u001b[0;34m(\u001b[0m\u001b[0ma\u001b[0m\u001b[0;34m,\u001b[0m\u001b[0mb\u001b[0m\u001b[0;34m,\u001b[0m\u001b[0mM\u001b[0m\u001b[0;34m+\u001b[0m\u001b[0;36m1\u001b[0m\u001b[0;34m)\u001b[0m \u001b[0;31m# Vertices of our triangulation\u001b[0m\u001b[0;34m\u001b[0m\u001b[0;34m\u001b[0m\u001b[0m\n",
      "\u001b[0;31mNameError\u001b[0m: name 'linspace' is not defined"
     ]
    }
   ],
   "source": [
    "# Let's define the domain discretisazion. In 1D, this is just a set of vertices, identifying edges\n",
    "a = 0 \n",
    "b = 1\n",
    "M = 4 # Number of elements\n",
    "degree = 3\n",
    "# Make sure we don't choose degree = 0. This won't work. Piecewise constants cannot be continuous\n",
    "assert degree > 0\n",
    "\n",
    "# We now choose the number of quadrature points, in order to integrate *exactly* \n",
    "# both (v_i, v_j) and (v'_i, v'_j)\n",
    "n_quadrature_points = 2*degree+1\n",
    "\n",
    "# To get a continuous space, we construct piecewise polynomials with support points on the boundary of the\n",
    "# elements. If the degree is greater than 1, then we pick (d-1) equispaced points in the interior of the\n",
    "# elements as additional support points.\n",
    "\n",
    "# Notice that the total number of degrees of freedom is equal to the number of vertices (M+1) plus the \n",
    "# number of *interior*  basis functions (d+1-2), that is: (M+1) + (d-1)*M = M*d+1\n",
    "N = M*degree+1\n",
    "\n",
    "ref_vertices = linspace(0,1,degree+1)\n",
    "\n",
    "vertices = linspace(a,b,M+1) # Vertices of our triangulation"
   ]
  },
  {
   "cell_type": "code",
   "execution_count": null,
   "metadata": {},
   "outputs": [],
   "source": [
    "# The reference element is [0,1]. We construct the mappings, the determinant of their Jacobians, and the \n",
    "# reference Basis functions\n",
    "\n",
    "def mapping(q, i):\n",
    "    \"\"\"\n",
    "    Returns the mapping from [0,1] to T_k := [q[k], q[k+1]]\n",
    "    \"\"\"\n",
    "    assert i < len(q)-1\n",
    "    assert i >= 0\n",
    "    return lambda x: q[i]+x*(q[i+1]-q[i])\n",
    "\n",
    "def mapping_J(q,i):\n",
    "    assert i < len(q)-1\n",
    "    assert i >= 0\n",
    "    return (q[i+1]-q[i])\n",
    "\n",
    "def lagrange_basis(q, i):\n",
    "    assert i < len(q)\n",
    "    assert i >= 0\n",
    "    return lambda x: prod([(x-q[j])/(q[i]-q[j]) for j in range(len(q)) if i!=j], axis=0)\n",
    "\n",
    "# Workaround, to allow lambdify to work also on constant expressions\n",
    "def np_lambdify(varname, func):\n",
    "    lamb = sym.lambdify(varname, func, modules=['numpy'])\n",
    "    if func.is_constant():\n",
    "        return lambda t: full_like(t, lamb(t))\n",
    "    else:\n",
    "        return lambda t: lamb(np.array(t))\n",
    "\n",
    "def lagrange_basis_derivative(q,i,order=1):\n",
    "    t = sym.var('t')\n",
    "    return np_lambdify(t, lagrange_basis(q,i)(t).diff(t,order))"
   ]
  },
  {
   "cell_type": "code",
   "execution_count": null,
   "metadata": {},
   "outputs": [],
   "source": [
    "# Let's check that, on each element, F_k(0) = q[k] and F_k(1) = q[k+1]\n",
    "assert abs(array([mapping(vertices, i)(0) for i in range(M)]) - vertices[:-1]).max() < 1e-16\n",
    "assert abs(array([mapping(vertices, i)(1) for i in range(M)]) - vertices[1:]).max() < 1e-16"
   ]
  },
  {
   "cell_type": "code",
   "execution_count": 2,
   "metadata": {},
   "outputs": [
    {
     "ename": "NameError",
     "evalue": "name 'linspace' is not defined",
     "output_type": "error",
     "traceback": [
      "\u001b[0;31m---------------------------------------------------------------------------\u001b[0m",
      "\u001b[0;31mNameError\u001b[0m                                 Traceback (most recent call last)",
      "\u001b[0;32m<ipython-input-2-502daf26a1c4>\u001b[0m in \u001b[0;36m<module>\u001b[0;34m\u001b[0m\n\u001b[0;32m----> 1\u001b[0;31m \u001b[0mx\u001b[0m \u001b[0;34m=\u001b[0m \u001b[0mlinspace\u001b[0m\u001b[0;34m(\u001b[0m\u001b[0;36m0\u001b[0m\u001b[0;34m,\u001b[0m\u001b[0;36m1\u001b[0m\u001b[0;34m,\u001b[0m\u001b[0;36m51\u001b[0m\u001b[0;34m)\u001b[0m\u001b[0;34m\u001b[0m\u001b[0;34m\u001b[0m\u001b[0m\n\u001b[0m\u001b[1;32m      2\u001b[0m \u001b[0;34m\u001b[0m\u001b[0m\n\u001b[1;32m      3\u001b[0m \u001b[0mV\u001b[0m \u001b[0;34m=\u001b[0m \u001b[0marray\u001b[0m\u001b[0;34m(\u001b[0m\u001b[0;34m[\u001b[0m\u001b[0mlagrange_basis\u001b[0m\u001b[0;34m(\u001b[0m\u001b[0mref_vertices\u001b[0m\u001b[0;34m,\u001b[0m\u001b[0mi\u001b[0m\u001b[0;34m)\u001b[0m\u001b[0;34m(\u001b[0m\u001b[0mx\u001b[0m\u001b[0;34m)\u001b[0m \u001b[0;32mfor\u001b[0m \u001b[0mi\u001b[0m \u001b[0;32min\u001b[0m \u001b[0mrange\u001b[0m\u001b[0;34m(\u001b[0m\u001b[0mdegree\u001b[0m\u001b[0;34m+\u001b[0m\u001b[0;36m1\u001b[0m\u001b[0;34m)\u001b[0m\u001b[0;34m]\u001b[0m\u001b[0;34m)\u001b[0m\u001b[0;34m.\u001b[0m\u001b[0mT\u001b[0m\u001b[0;34m\u001b[0m\u001b[0;34m\u001b[0m\u001b[0m\n\u001b[1;32m      4\u001b[0m \u001b[0mVp\u001b[0m \u001b[0;34m=\u001b[0m \u001b[0marray\u001b[0m\u001b[0;34m(\u001b[0m\u001b[0;34m[\u001b[0m\u001b[0mlagrange_basis_derivative\u001b[0m\u001b[0;34m(\u001b[0m\u001b[0mref_vertices\u001b[0m\u001b[0;34m,\u001b[0m\u001b[0mi\u001b[0m\u001b[0;34m)\u001b[0m\u001b[0;34m(\u001b[0m\u001b[0mx\u001b[0m\u001b[0;34m)\u001b[0m \u001b[0;32mfor\u001b[0m \u001b[0mi\u001b[0m \u001b[0;32min\u001b[0m \u001b[0mrange\u001b[0m\u001b[0;34m(\u001b[0m\u001b[0mdegree\u001b[0m\u001b[0;34m+\u001b[0m\u001b[0;36m1\u001b[0m\u001b[0;34m)\u001b[0m\u001b[0;34m]\u001b[0m\u001b[0;34m)\u001b[0m\u001b[0;34m.\u001b[0m\u001b[0mT\u001b[0m\u001b[0;34m\u001b[0m\u001b[0;34m\u001b[0m\u001b[0m\n\u001b[1;32m      5\u001b[0m \u001b[0m_\u001b[0m \u001b[0;34m=\u001b[0m \u001b[0;34m[\u001b[0m\u001b[0mplot\u001b[0m\u001b[0;34m(\u001b[0m\u001b[0mx\u001b[0m\u001b[0;34m,\u001b[0m \u001b[0mV\u001b[0m\u001b[0;34m)\u001b[0m\u001b[0;34m]\u001b[0m\u001b[0;34m\u001b[0m\u001b[0;34m\u001b[0m\u001b[0m\n",
      "\u001b[0;31mNameError\u001b[0m: name 'linspace' is not defined"
     ]
    }
   ],
   "source": [
    "x = linspace(0,1,51)\n",
    "\n",
    "V = array([lagrange_basis(ref_vertices,i)(x) for i in range(degree+1)]).T\n",
    "Vp = array([lagrange_basis_derivative(ref_vertices,i)(x) for i in range(degree+1)]).T\n",
    "_ = [plot(x, V)]\n",
    "show()\n",
    "_ = [plot(x, Vp)]\n",
    "show()"
   ]
  },
  {
   "cell_type": "code",
   "execution_count": 6,
   "metadata": {},
   "outputs": [],
   "source": [
    "# Now construct an interpolatory quadrature formula on [0,1]\n",
    "q, w = numpy.polynomial.legendre.leggauss(n_quadrature_points)\n",
    "\n",
    "q = (q+1)/2\n",
    "w = w/2"
   ]
  },
  {
   "cell_type": "code",
   "execution_count": 7,
   "metadata": {},
   "outputs": [
    {
     "name": "stdout",
     "output_type": "stream",
     "text": [
      "[[ 0  1  2  3]\n",
      " [ 3  4  5  6]\n",
      " [ 6  7  8  9]\n",
      " [ 9 10 11 12]]\n"
     ]
    }
   ],
   "source": [
    "# And build a global numbering of the basis functions i = P[k,alpha]. Keep in mind that, to ensure continuity, \n",
    "# we identify the global index the first basis function of each element, with the global index of the \n",
    "# last basis function of the previous element\n",
    "\n",
    "P = zeros((M,degree+1), dtype=int)\n",
    "\n",
    "for k in range(M):\n",
    "    start = k*degree\n",
    "    P[k] = array(range(start,start+degree+1))\n",
    "\n",
    "assert P.max() == N-1\n",
    "print(P)"
   ]
  },
  {
   "cell_type": "code",
   "execution_count": 8,
   "metadata": {},
   "outputs": [],
   "source": [
    "# Now we build, for each segment, the transformation of quadrature points and weights, so that we can \n",
    "# integrate the rhs and the matrices\n",
    "\n",
    "Q = array([mapping(vertices,k)(q) for k in range(M)])\n",
    "JxW = array([mapping_J(vertices,k)*w for k in range(M)])"
   ]
  },
  {
   "cell_type": "code",
   "execution_count": 9,
   "metadata": {},
   "outputs": [
    {
     "data": {
      "text/plain": [
       "0.49999999999999994"
      ]
     },
     "execution_count": 9,
     "metadata": {},
     "output_type": "execute_result"
    }
   ],
   "source": [
    "# Let's test that everything works: the integral between 0 and 1 of the function f(x) = x should return 0.5. \n",
    "# Then sum_k q[k].dot(w_k) should be 0.5.\n",
    "\n",
    "integral = 0\n",
    "for k in range(M):\n",
    "    integral = integral + Q[k].dot(JxW[k])\n",
    "\n",
    "assert abs(integral - .5) < 1e-16\n",
    "\n",
    "#same as\n",
    "einsum('kq,kq', Q, JxW)"
   ]
  },
  {
   "cell_type": "code",
   "execution_count": 10,
   "metadata": {},
   "outputs": [],
   "source": [
    "# Construct the matrix B[k,j,i], defined as the value of v_i(F_k(x[j]))\n",
    "B = zeros((M, len(x), N))\n",
    "\n",
    "for k in range(M):\n",
    "    B[k,:,P[k]] = V.T\n",
    "    \n",
    "# To evaluate functions and to do some plotting, also gather together all F_k(x[j]) in X[k,j]\n",
    "X = array([mapping(vertices,k)(x) for k in range(M)])"
   ]
  },
  {
   "cell_type": "code",
   "execution_count": 11,
   "metadata": {},
   "outputs": [
    {
     "data": {
      "text/plain": [
       "((4, 51), (4, 51, 13))"
      ]
     },
     "execution_count": 11,
     "metadata": {},
     "output_type": "execute_result"
    }
   ],
   "source": [
    "X.shape, B.shape"
   ]
  },
  {
   "cell_type": "code",
   "execution_count": 12,
   "metadata": {},
   "outputs": [
    {
     "data": {
      "text/plain": [
       "((204,), (204, 13))"
      ]
     },
     "execution_count": 12,
     "metadata": {},
     "output_type": "execute_result"
    }
   ],
   "source": [
    "# Reshaping X and B, we can use them to compute piecewise interpolation\n",
    "X = X.flatten()\n",
    "B = B.reshape((len(X),-1))\n",
    "\n",
    "X.shape, B.shape"
   ]
  },
  {
   "cell_type": "code",
   "execution_count": 13,
   "metadata": {},
   "outputs": [
    {
     "data": {
      "image/png": "[encoded data removed]",
      "text/plain": [
       "<Figure size 432x288 with 1 Axes>"
      ]
     },
     "metadata": {
      "needs_background": "light"
     },
     "output_type": "display_data"
    }
   ],
   "source": [
    "_ = plot(X, B[:,0:3]) \n",
    "_ = plot(vertices, 0*vertices,'ro')"
   ]
  },
  {
   "cell_type": "code",
   "execution_count": 14,
   "metadata": {},
   "outputs": [
    {
     "data": {
      "text/plain": [
       "1.1102230246251565e-16"
      ]
     },
     "execution_count": 14,
     "metadata": {},
     "output_type": "execute_result"
    }
   ],
   "source": [
    "# Notice that the global support points are the image through F_k of the reference support points,\n",
    "# Numbered according to the matrix P, i.e..\n",
    "\n",
    "support_points = zeros((N,))\n",
    "\n",
    "for k in range(M):\n",
    "    support_points[P[k]] = mapping(vertices,k)(ref_vertices)\n",
    "    \n",
    "# If we chose equispaced vertices, they should be identical to linspace(a,b,N):\n",
    "abs(support_points - linspace(a,b,N)).max()"
   ]
  },
  {
   "cell_type": "code",
   "execution_count": 15,
   "metadata": {},
   "outputs": [],
   "source": [
    "# Let's use the runge function as an example, and compute its *piecewise* polynomial interpolation \n",
    "def runge(x):\n",
    "    return 1/(1+50*(x-.5)**2)"
   ]
  },
  {
   "cell_type": "code",
   "execution_count": 16,
   "metadata": {},
   "outputs": [
    {
     "data": {
      "text/plain": [
       "[<matplotlib.lines.Line2D at 0x7f9179cf2be0>]"
      ]
     },
     "execution_count": 16,
     "metadata": {},
     "output_type": "execute_result"
    },
    {
     "data": {
      "image/png": "[encoded data removed]",
      "text/plain": [
       "<Figure size 432x288 with 1 Axes>"
      ]
     },
     "metadata": {
      "needs_background": "light"
     },
     "output_type": "display_data"
    }
   ],
   "source": [
    "plot(X, runge(X))\n",
    "plot(support_points, runge(support_points), 'ro')\n",
    "plot(X, B.dot(runge(support_points)),'r')"
   ]
  },
  {
   "cell_type": "code",
   "execution_count": 17,
   "metadata": {},
   "outputs": [],
   "source": [
    "# Construct a arrays Bq and Bprimeq: Bq[k,j,i] is v_i(T_k(q[j])), \n",
    "# and Bprimeq[k,j,i] is v'_i(T_k(q[j]))/T'_k(q[j])\n",
    "Bq = zeros((M, n_quadrature_points, N))\n",
    "Bprimeq = zeros((M, n_quadrature_points, N))\n",
    "\n",
    "Vq = array([lagrange_basis(ref_vertices,i)(q) for i in range(degree+1)]).T\n",
    "Vprimeq = array([lagrange_basis_derivative(ref_vertices,i)(q) for i in range(degree+1)]).T\n",
    "\n",
    "for k in range(M):\n",
    "    Bq[k,:,P[k]] = Vq.T\n",
    "    Bprimeq[k,:,P[k]] = Vprimeq.T/mapping_J(vertices,k)\n",
    "\n",
    "Xq = Q.flatten()\n",
    "Bq = Bq.reshape((len(Xq),-1))\n",
    "Bprimeq = Bprimeq.reshape((len(Xq),-1))\n",
    "JxWq = JxW.flatten()"
   ]
  },
  {
   "cell_type": "code",
   "execution_count": 18,
   "metadata": {},
   "outputs": [],
   "source": [
    "# Now compute the integrals for the mass and stiffness matrices\n",
    "mass_matrix = einsum('qi,qj,q',Bq,Bq,JxWq)\n",
    "stiffness_matrix = einsum('qi,qj,q',Bprimeq,Bprimeq,JxWq)"
   ]
  },
  {
   "cell_type": "code",
   "execution_count": 19,
   "metadata": {},
   "outputs": [
    {
     "data": {
      "text/plain": [
       "7.89617984234469e+16"
      ]
     },
     "execution_count": 19,
     "metadata": {},
     "output_type": "execute_result"
    }
   ],
   "source": [
    "# Notice that the stiffness matrix is non-invertible (Pure neumann problem in H1 is not uniquely solvable)\n",
    "# In fact we are not imposing the boundary conditions on the space, and we need to enforce them numerically\n",
    "linalg.cond(stiffness_matrix)"
   ]
  },
  {
   "cell_type": "code",
   "execution_count": 20,
   "metadata": {},
   "outputs": [
    {
     "data": {
      "text/plain": [
       "250.25346068360452"
      ]
     },
     "execution_count": 20,
     "metadata": {},
     "output_type": "execute_result"
    }
   ],
   "source": [
    "# We do the same thing we did in the finite difference case: eliminate the rows corresponding to the boundary \n",
    "# points, set the diagonal to 1, and set the rhs to the desired boundary condition\n",
    "stiffness_matrix[0,:] = stiffness_matrix[-1,:] = 0\n",
    "stiffness_matrix[0,0] = stiffness_matrix[-1,-1] = 1 \n",
    "\n",
    "# Let's check now if the matrix is well conditioned\n",
    "linalg.cond(stiffness_matrix)"
   ]
  },
  {
   "cell_type": "code",
   "execution_count": 21,
   "metadata": {},
   "outputs": [],
   "source": [
    "# Now let's first compute an L2 projection of the runge function, and compare with the interpolation\n",
    "mass_rhs = einsum('qi,q,q', Bq, runge(Xq), JxWq)\n",
    "u_projection = linalg.solve(mass_matrix, mass_rhs)"
   ]
  },
  {
   "cell_type": "code",
   "execution_count": 22,
   "metadata": {},
   "outputs": [
    {
     "data": {
      "text/plain": [
       "[<matplotlib.lines.Line2D at 0x7f91384ab970>]"
      ]
     },
     "execution_count": 22,
     "metadata": {},
     "output_type": "execute_result"
    },
    {
     "data": {
      "image/png": "[encoded data removed]",
      "text/plain": [
       "<Figure size 432x288 with 1 Axes>"
      ]
     },
     "metadata": {
      "needs_background": "light"
     },
     "output_type": "display_data"
    }
   ],
   "source": [
    "plot(X, runge(X))\n",
    "u_interpolate = runge(support_points)\n",
    "plot(support_points, u_interpolate, 'ro')\n",
    "plot(X, B.dot(runge(support_points)),'r')\n",
    "plot(X, B.dot(u_projection),'g')"
   ]
  },
  {
   "cell_type": "code",
   "execution_count": 23,
   "metadata": {},
   "outputs": [],
   "source": [
    "# Finally, let's solve non trivial problem: -u'' = sin(2 pi x) with zero bc.\n",
    "\n",
    "def rhs_function(x):\n",
    "    return sin(2*pi*x)\n",
    "\n",
    "def exact(x):\n",
    "    return sin(2*pi*x)/(4*pi**2)\n",
    "\n",
    "# Assemble the rhs, and make sure we set to zero the boundary conditions\n",
    "rhs = einsum('qi,q,q', Bq, rhs_function(Xq), JxWq)\n",
    "rhs[0] = rhs[-1] = 0"
   ]
  },
  {
   "cell_type": "code",
   "execution_count": 24,
   "metadata": {},
   "outputs": [],
   "source": [
    "u = linalg.solve(stiffness_matrix, rhs)"
   ]
  },
  {
   "cell_type": "code",
   "execution_count": 25,
   "metadata": {},
   "outputs": [
    {
     "data": {
      "text/plain": [
       "[<matplotlib.lines.Line2D at 0x7f9179d82a90>]"
      ]
     },
     "execution_count": 25,
     "metadata": {},
     "output_type": "execute_result"
    },
    {
     "data": {
      "image/png": "[encoded data removed]",
      "text/plain": [
       "<Figure size 432x288 with 1 Axes>"
      ]
     },
     "metadata": {
      "needs_background": "light"
     },
     "output_type": "display_data"
    }
   ],
   "source": [
    "plot(X, exact(X))\n",
    "plot(X, B.dot(u))\n",
    "plot(support_points, exact(support_points), 'o')"
   ]
  },
  {
   "cell_type": "code",
   "execution_count": 26,
   "metadata": {},
   "outputs": [
    {
     "data": {
      "text/plain": [
       "3.5160616773129974e-05"
      ]
     },
     "execution_count": 26,
     "metadata": {},
     "output_type": "execute_result"
    }
   ],
   "source": [
    "# Let's compute also the L2 error: \n",
    "error = sqrt(einsum('q,q', (Bq.dot(u)-exact(Xq))**2, JxWq))\n",
    "error"
   ]
  }
 ],
 "metadata": {
  "kernelspec": {
   "display_name": "Python 3",
   "language": "python",
   "name": "python3"
  },
  "language_info": {
   "codemirror_mode": {
    "name": "ipython",
    "version": 3
   },
   "file_extension": ".py",
   "mimetype": "text/x-python",
   "name": "python",
   "nbconvert_exporter": "python",
   "pygments_lexer": "ipython3",
   "version": "3.8.10"
  }
 },
 "nbformat": 4,
 "nbformat_minor": 5
}
