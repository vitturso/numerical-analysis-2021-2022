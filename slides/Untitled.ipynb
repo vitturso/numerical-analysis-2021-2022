{
 "cells": [
  {
   "cell_type": "code",
   "execution_count": 1,
   "metadata": {},
   "outputs": [],
   "source": [
    "# Due possibili soluzioni per questo esercizio\n",
    "\n",
    "def reverser(stringa):\n",
    "    indice = (len(stringa) -1)\n",
    "    nuova_stringa = \"\"\n",
    "    while indice >= 0:\n",
    "        nuova_stringa += stringa[indice]\n",
    "        indice -= 1\n",
    "    print(nuova_stringa)\n",
    "\n",
    "def reverser_pro(stringa):\n",
    "    reverse = stringa[::-1]\n",
    "    print(reverse)"
   ]
  },
  {
   "cell_type": "code",
   "execution_count": 4,
   "metadata": {},
   "outputs": [
    {
     "ename": "SyntaxError",
     "evalue": "invalid syntax (<ipython-input-4-97dca9a6a977>, line 8)",
     "output_type": "error",
     "traceback": [
      "\u001b[0;36m  File \u001b[0;32m\"<ipython-input-4-97dca9a6a977>\"\u001b[0;36m, line \u001b[0;32m8\u001b[0m\n\u001b[0;31m    a=2 b=3\u001b[0m\n\u001b[0m        ^\u001b[0m\n\u001b[0;31mSyntaxError\u001b[0m\u001b[0;31m:\u001b[0m invalid syntax\n"
     ]
    }
   ],
   "source": [
    "def my_max(a, b):\n",
    "    if a == b:\n",
    "        print(\"I numeri sono identici\")\n",
    "    elif a > b:\n",
    "        print(\"Il numero più grande tra i due è \" + str(a))\n",
    "    else:\n",
    "        print(\"Il numero più grande tra i due è \" + str(b))"
   ]
  },
  {
   "cell_type": "code",
   "execution_count": null,
   "metadata": {},
   "outputs": [],
   "source": []
  },
  {
   "cell_type": "code",
   "execution_count": null,
   "metadata": {},
   "outputs": [],
   "source": []
  }
 ],
 "metadata": {
  "kernelspec": {
   "display_name": "Python 3",
   "language": "python",
   "name": "python3"
  },
  "language_info": {
   "codemirror_mode": {
    "name": "ipython",
    "version": 3
   },
   "file_extension": ".py",
   "mimetype": "text/x-python",
   "name": "python",
   "nbconvert_exporter": "python",
   "pygments_lexer": "ipython3",
   "version": "3.8.10"
  }
 },
 "nbformat": 4,
 "nbformat_minor": 4
}
