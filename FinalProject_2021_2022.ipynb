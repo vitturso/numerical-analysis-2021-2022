{
  "cells": [
    {
      "cell_type": "code",
      "execution_count": null,
      "id": "3fe94688",
      "metadata": {
        "id": "3fe94688"
      },
      "outputs": [],
      "source": [
        "%matplotlib inline\n",
        "from numpy import *\n",
        "from matplotlib.pyplot import *"
      ]
    },
    {
      "cell_type": "code",
      "source": [
        ""
      ],
      "metadata": {
        "id": "2yUETvkozE7b"
      },
      "id": "2yUETvkozE7b",
      "execution_count": null,
      "outputs": []
    },
    {
      "cell_type": "markdown",
      "id": "8184faab",
      "metadata": {
        "id": "8184faab"
      },
      "source": [
        "Consider the following one-dimensional PDE:\n",
        "$$\n",
        "-u_{xx}(x) = f(x)\\quad\\mathrm{ in }\\ \\Omega = (0, \\pi)\n",
        "$$\n",
        "$$\n",
        "u(x) = 0, \\quad\\mathrm{ on }\\ \\partial\\Omega = \\{0, \\pi\\}\n",
        "$$\n",
        "\n",
        "Given the following $4^{th}$ order finite difference approximation of the second order derivative:\n",
        "\n",
        "$$u_{xx}(x_i) = \\frac{-u_{i-2}+16u_{i-1}-30u_i+16u_{i+1}-u_{i+2}}{12h^2}$$\n",
        "\n",
        "Implement a function that given the domain interval, the forcing function, the number of discretization points, the boundary conditions, returns the matrix $A$ and the the right hand side $b$."
      ]
    },
    {
      "cell_type": "code",
      "execution_count": null,
      "id": "1c562f13",
      "metadata": {
        "id": "1c562f13"
      },
      "outputs": [],
      "source": [
        "def finDif(omega,f,n,bc):\n",
        "    pass #TODO\n",
        "    return A, b"
      ]
    },
    {
      "cell_type": "markdown",
      "id": "c21bb21e",
      "metadata": {
        "id": "c21bb21e"
      },
      "source": [
        "Call the function using:"
      ]
    },
    {
      "cell_type": "code",
      "execution_count": null,
      "id": "23af8831",
      "metadata": {
        "id": "23af8831"
      },
      "outputs": [],
      "source": [
        "omega = [0,pi]\n",
        "f = lambda x : sin(x)\n",
        "n=100\n",
        "bc = [0,0]\n",
        "A, b = finDif(omega, f, n, bc)"
      ]
    },
    {
      "cell_type": "markdown",
      "id": "4f8a7c6f",
      "metadata": {
        "id": "4f8a7c6f"
      },
      "source": [
        "Implement two functions that compute the LU and the Cholesky factorization of the system matrix $A$"
      ]
    },
    {
      "cell_type": "code",
      "execution_count": null,
      "id": "47468a37",
      "metadata": {
        "id": "47468a37"
      },
      "outputs": [],
      "source": [
        "def LU(A):\n",
        "    pass #TODO\n",
        "    return L, U\n",
        "\n",
        "L, U = LU(A)"
      ]
    },
    {
      "cell_type": "code",
      "execution_count": null,
      "id": "193ebfed",
      "metadata": {
        "id": "193ebfed"
      },
      "outputs": [],
      "source": [
        "def cholesky(A):\n",
        "    pass #TODO\n",
        "    return L, L.transpose()\n",
        "\n",
        "HT, H = cholesky(A)"
      ]
    },
    {
      "cell_type": "markdown",
      "id": "41eb8436",
      "metadata": {
        "id": "41eb8436"
      },
      "source": [
        "Implement forward and backward substitution functions to exploit the developed factorization methods to solve the derived linear system of equations."
      ]
    },
    {
      "cell_type": "code",
      "execution_count": null,
      "id": "019cf0df",
      "metadata": {
        "id": "019cf0df"
      },
      "outputs": [],
      "source": [
        "def L_solve(L,rhs):\n",
        "    pass #todo  \n",
        "    return x"
      ]
    },
    {
      "cell_type": "code",
      "execution_count": null,
      "id": "26ce17c4",
      "metadata": {
        "id": "26ce17c4"
      },
      "outputs": [],
      "source": [
        "def U_solve(U,rhs):\n",
        "    pass # TODO\n",
        "    return x"
      ]
    },
    {
      "cell_type": "markdown",
      "id": "08ac9ba1",
      "metadata": {
        "id": "08ac9ba1"
      },
      "source": [
        "Solve the derived linear system using the implemented functions and plot the computed solution:"
      ]
    },
    {
      "cell_type": "code",
      "execution_count": null,
      "id": "7c1de4f3",
      "metadata": {
        "id": "7c1de4f3"
      },
      "outputs": [],
      "source": [
        "#TODO"
      ]
    },
    {
      "cell_type": "markdown",
      "id": "62cdfe65",
      "metadata": {
        "id": "62cdfe65"
      },
      "source": [
        "Considering the new domain $\\Omega = (0,1)$ and the forcing term $f(x) = x(1-x)$ with B.C. $u(x) = 0$, on $\\partial \\Omega = {0,1}$ produce a plot and a table where you show the decay of the error w.r.t. the number of grid points.\n",
        "(The analytical solution for the above problems is $u_{an} = \\frac{x^4}{12} - \\frac{x^3}{6} + \\frac{x}{12}$)"
      ]
    },
    {
      "cell_type": "code",
      "execution_count": null,
      "id": "91212afb",
      "metadata": {
        "id": "91212afb"
      },
      "outputs": [],
      "source": [
        "#TODO"
      ]
    },
    {
      "cell_type": "markdown",
      "id": "c8d5002f",
      "metadata": {
        "id": "c8d5002f"
      },
      "source": [
        "Exploit the derived LU factorizations to compute the condition number of the system's matrix $A$ using the original problem formulation."
      ]
    },
    {
      "cell_type": "code",
      "execution_count": null,
      "id": "c25fc1fe",
      "metadata": {
        "id": "c25fc1fe"
      },
      "outputs": [],
      "source": [
        "def condNumb(A):\n",
        "    pass #TODO\n",
        "    return condNu"
      ]
    },
    {
      "cell_type": "markdown",
      "id": "2728b49a",
      "metadata": {
        "id": "2728b49a"
      },
      "source": [
        "Implement a preconditioned Conjugant Gradient method to solve the original linear system of equations using an iterative method:"
      ]
    },
    {
      "cell_type": "code",
      "execution_count": null,
      "id": "62b83aee",
      "metadata": {
        "id": "62b83aee"
      },
      "outputs": [],
      "source": [
        "def conjugate_gradient(A, b, P, nmax=len(A), eps=1e-10):\n",
        "    pass #TODO"
      ]
    },
    {
      "cell_type": "markdown",
      "id": "8a4cfc02",
      "metadata": {
        "id": "8a4cfc02"
      },
      "source": [
        "Consider the following time dependent variation of the PDE starting from the orginal problem formulation:\n",
        "$$\n",
        "u'(t)-u_{xx} = \\alpha(t)f(x)\n",
        "$$\n",
        "\n",
        "for $t\\in [0,T]$, with $\\alpha(t) = \\cos(t)$ and $T = 6\\pi$\n",
        "\n",
        "Use the same finite difference scheme to derive the semi-discrete formulation and solve it using a forward Euler's method.\n",
        "\n",
        "Plot the time dependent solution solution at $x = \\pi/2$, $x=1$, \n",
        "$x=\\pi$\n"
      ]
    },
    {
      "cell_type": "code",
      "execution_count": null,
      "id": "3ffe0689",
      "metadata": {
        "id": "3ffe0689"
      },
      "outputs": [],
      "source": [
        "#TODO"
      ]
    },
    {
      "cell_type": "markdown",
      "id": "36936121",
      "metadata": {
        "id": "36936121"
      },
      "source": [
        "Given the original $Au = b$ system, implement an algorithm to compute the eigenvalues and eigenvectors of the matrix $A$. Exploit the computed LU factorization"
      ]
    },
    {
      "cell_type": "code",
      "execution_count": null,
      "id": "622aadf4",
      "metadata": {
        "id": "622aadf4"
      },
      "outputs": [],
      "source": [
        "#TODO"
      ]
    },
    {
      "cell_type": "markdown",
      "id": "85d5f64e",
      "metadata": {
        "id": "85d5f64e"
      },
      "source": [
        "Compute the inverse of the matrix A exploiting the derived LU factorization"
      ]
    },
    {
      "cell_type": "code",
      "execution_count": null,
      "id": "6ad7199f",
      "metadata": {
        "id": "6ad7199f"
      },
      "outputs": [],
      "source": [
        "#TODO"
      ]
    },
    {
      "cell_type": "markdown",
      "id": "cb22566e",
      "metadata": {
        "id": "cb22566e"
      },
      "source": [
        "Consider the following Cauchy problem\n",
        "$$\n",
        "\\begin{cases}\n",
        "y'= -ty^2 \\quad 0\\le t \\le 2\\\\\n",
        "y(0) = 1\n",
        "\\end{cases}\n",
        "$$\n",
        "Implement a Backward Euler's method in a suitable function and solve the resulting non-linear equation using a Newton's method."
      ]
    },
    {
      "cell_type": "code",
      "execution_count": null,
      "id": "3184e358",
      "metadata": {
        "id": "3184e358"
      },
      "outputs": [],
      "source": [
        "#TODO"
      ]
    }
  ],
  "metadata": {
    "kernelspec": {
      "display_name": "Python 3 (ipykernel)",
      "language": "python",
      "name": "python3"
    },
    "language_info": {
      "codemirror_mode": {
        "name": "ipython",
        "version": 3
      },
      "file_extension": ".py",
      "mimetype": "text/x-python",
      "name": "python",
      "nbconvert_exporter": "python",
      "pygments_lexer": "ipython3",
      "version": "3.8.11"
    },
    "colab": {
      "name": "FinalProject-2021-2022.ipynb",
      "provenance": []
    }
  },
  "nbformat": 4,
  "nbformat_minor": 5
}